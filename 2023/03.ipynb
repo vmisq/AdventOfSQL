{
 "cells": [
  {
   "cell_type": "code",
   "execution_count": 1,
   "metadata": {},
   "outputs": [],
   "source": [
    "import duckdb\n",
    "\n",
    "# puzzle input goes here\n",
    "input = \"\"\"\n",
    "\"\"\""
   ]
  },
  {
   "cell_type": "code",
   "execution_count": 2,
   "metadata": {},
   "outputs": [
    {
     "data": {
      "text/plain": [
       "┌────────┐\n",
       "│  ans   │\n",
       "│ int128 │\n",
       "├────────┤\n",
       "│ 550064 │\n",
       "└────────┘"
      ]
     },
     "execution_count": 2,
     "metadata": {},
     "output_type": "execute_result"
    }
   ],
   "source": [
    "duckdb.sql(\"\"\"\n",
    "    WITH input AS (\n",
    "        SELECT '%s' AS input\n",
    "    ), rows AS (\n",
    "        SELECT\n",
    "            GENERATE_SUBSCRIPTS(STRING_SPLIT(input, '\\n'), 1) row_no,\n",
    "            UNNEST(STRING_SPLIT(input, '\\n')) row_content\n",
    "        FROM input\n",
    "    ), part_numbers AS (\n",
    "        SELECT row_no, absolute_start col_start, absolute_end col_end, number_only part_no\n",
    "        FROM (\n",
    "            SELECT\n",
    "                row_no,\n",
    "                REGEXP_EXTRACT(number_text, '([0-9]+)') number_only,\n",
    "                SUM(LENGTH(number_text)) OVER w absolute_end,\n",
    "                LENGTH(number_text) relative_end,\n",
    "                INSTR(number_text, number_only) relative_start,\n",
    "                absolute_end - (relative_end - relative_start) absolute_start\n",
    "            FROM (\n",
    "                SELECT \n",
    "                    row_no,\n",
    "                    row_content,\n",
    "                    REGEXP_EXTRACT_ALL(row_content, '([^0-9]*[0-9]+)') numbers,\n",
    "                    GENERATE_SUBSCRIPTS(numbers, 1) number_order,\n",
    "                    UNNEST(numbers) number_text\n",
    "                FROM rows\n",
    "            )\n",
    "            WINDOW w AS (PARTITION BY row_no ORDER BY number_order)\n",
    "        )\n",
    "    ), symbols AS (\n",
    "        SELECT row_no, col_no, sbl\n",
    "        FROM (\n",
    "            SELECT\n",
    "                row_no,\n",
    "                GENERATE_SUBSCRIPTS(STRING_SPLIT(row_content, ''), 1) col_no,\n",
    "                UNNEST(STRING_SPLIT(row_content, '')) sbl\n",
    "            FROM rows\n",
    "        )\n",
    "        WHERE NOT sbl GLOB '[.0-9]'\n",
    "    ), valid_part_numbers AS (\n",
    "        SELECT CAST(part_no AS INT) part_no\n",
    "        FROM part_numbers p\n",
    "        WHERE EXISTS (\n",
    "            SELECT *\n",
    "            FROM symbols s\n",
    "            WHERE s.row_no BETWEEN p.row_no - 1 AND p.row_no + 1\n",
    "            AND s.col_no BETWEEN p.col_start - 1 AND p.col_end + 1\n",
    "        )\n",
    "    )\n",
    "    SELECT SUM(part_no) ans\n",
    "    FROM valid_part_numbers\n",
    "\"\"\" % input)"
   ]
  },
  {
   "cell_type": "code",
   "execution_count": 3,
   "metadata": {},
   "outputs": [
    {
     "data": {
      "text/plain": [
       "┌──────────┐\n",
       "│   ans    │\n",
       "│  int32   │\n",
       "├──────────┤\n",
       "│ 85010461 │\n",
       "└──────────┘"
      ]
     },
     "execution_count": 3,
     "metadata": {},
     "output_type": "execute_result"
    }
   ],
   "source": [
    "duckdb.sql(\"\"\"\n",
    "    WITH input AS (\n",
    "        SELECT '%s' AS input\n",
    "    ), rows AS (\n",
    "        SELECT\n",
    "            GENERATE_SUBSCRIPTS(STRING_SPLIT(input, '\\n'), 1) row_no,\n",
    "            UNNEST(STRING_SPLIT(input, '\\n')) row_content\n",
    "        FROM input\n",
    "    ), part_numbers AS (\n",
    "        SELECT row_no, absolute_start col_start, absolute_end col_end, number_only part_no\n",
    "        FROM (\n",
    "            SELECT\n",
    "                row_no,\n",
    "                REGEXP_EXTRACT(number_text, '([0-9]+)') number_only,\n",
    "                SUM(LENGTH(number_text)) OVER w absolute_end,\n",
    "                LENGTH(number_text) relative_end,\n",
    "                INSTR(number_text, number_only) relative_start,\n",
    "                absolute_end - (relative_end - relative_start) absolute_start\n",
    "            FROM (\n",
    "                SELECT \n",
    "                    row_no,\n",
    "                    row_content,\n",
    "                    REGEXP_EXTRACT_ALL(row_content, '([^0-9]*[0-9]+)') numbers,\n",
    "                    GENERATE_SUBSCRIPTS(numbers, 1) number_order,\n",
    "                    UNNEST(numbers) number_text\n",
    "                FROM rows\n",
    "            )\n",
    "            WINDOW w AS (PARTITION BY row_no ORDER BY number_order)\n",
    "        )\n",
    "    ), symbols AS (\n",
    "        SELECT row_no, col_no, sbl\n",
    "        FROM (\n",
    "            SELECT\n",
    "                row_no,\n",
    "                GENERATE_SUBSCRIPTS(STRING_SPLIT(row_content, ''), 1) col_no,\n",
    "                UNNEST(STRING_SPLIT(row_content, '')) sbl\n",
    "            FROM rows\n",
    "        )\n",
    "        WHERE NOT sbl GLOB '[.0-9]'\n",
    "    ), gear_ratios AS (\n",
    "        SELECT row_no, col_no, PRODUCT(CAST(part_no AS INT)) gr\n",
    "        FROM (\n",
    "            SELECT s.row_no, s.col_no, part_no\n",
    "            FROM symbols s, part_numbers p\n",
    "            WHERE s.sbl = '*'\n",
    "            AND s.row_no BETWEEN p.row_no - 1 AND p.row_no + 1\n",
    "            AND s.col_no BETWEEN p.col_start - 1 AND p.col_end + 1\n",
    "        )\n",
    "        GROUP BY row_no, col_no\n",
    "        HAVING COUNT(*) = 2\n",
    "    )\n",
    "    SELECT CAST(SUM(gr) AS INT) ans\n",
    "    FROM gear_ratios\n",
    "\"\"\" % input)"
   ]
  }
 ],
 "metadata": {
  "kernelspec": {
   "display_name": "aos",
   "language": "python",
   "name": "python3"
  },
  "language_info": {
   "codemirror_mode": {
    "name": "ipython",
    "version": 3
   },
   "file_extension": ".py",
   "mimetype": "text/x-python",
   "name": "python",
   "nbconvert_exporter": "python",
   "pygments_lexer": "ipython3",
   "version": "3.12.3"
  }
 },
 "nbformat": 4,
 "nbformat_minor": 2
}
