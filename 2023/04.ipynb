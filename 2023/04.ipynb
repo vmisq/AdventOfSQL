{
 "cells": [
  {
   "cell_type": "code",
   "execution_count": 1,
   "metadata": {},
   "outputs": [],
   "source": [
    "import duckdb\n",
    "\n",
    "# puzzle input goes here\n",
    "input = \"\"\"\n",
    "\"\"\""
   ]
  },
  {
   "cell_type": "code",
   "execution_count": 2,
   "metadata": {},
   "outputs": [
    {
     "data": {
      "text/plain": [
       "┌───────┐\n",
       "│  ans  │\n",
       "│ int32 │\n",
       "├───────┤\n",
       "│ 26443 │\n",
       "└───────┘"
      ]
     },
     "execution_count": 2,
     "metadata": {},
     "output_type": "execute_result"
    }
   ],
   "source": [
    "duckdb.sql(\"\"\"\n",
    "    WITH input AS (\n",
    "        SELECT '%s' AS input\n",
    "    ), t AS (\n",
    "        SELECT\n",
    "            UNNEST(STRING_SPLIT(input, '\\n')) i,\n",
    "            CAST(REGEXP_EXTRACT(STRING_SPLIT(i, ':')[1], '([0-9]+)') AS INT) card,\n",
    "            CAST(REGEXP_EXTRACT_ALL(STRING_SPLIT(STRING_SPLIT(i, ':')[2], '|')[1], '([0-9]+)') AS INT[]) win,\n",
    "            CAST(REGEXP_EXTRACT_ALL(STRING_SPLIT(STRING_SPLIT(i, ':')[2], '|')[2], '([0-9]+)') AS INT[]) hand\n",
    "        FROM input\n",
    "    ), matches AS (\n",
    "        SELECT card, LENGTH(ARRAY_INTERSECT(win, hand)) matches\n",
    "        FROM t\n",
    "    )\n",
    "    SELECT CAST(SUM(2^(matches - 1)) AS INT) ans\n",
    "    FROM matches\n",
    "    WHERE matches > 0\n",
    "\"\"\" % input)"
   ]
  },
  {
   "cell_type": "code",
   "execution_count": 3,
   "metadata": {},
   "outputs": [
    {
     "data": {
      "text/plain": [
       "┌─────────┐\n",
       "│   ans   │\n",
       "│  int64  │\n",
       "├─────────┤\n",
       "│ 6284877 │\n",
       "└─────────┘"
      ]
     },
     "execution_count": 3,
     "metadata": {},
     "output_type": "execute_result"
    }
   ],
   "source": [
    "duckdb.sql(\"\"\"\n",
    "    WITH RECURSIVE input AS (\n",
    "        SELECT '%s' AS input\n",
    "    ), t AS (\n",
    "        SELECT\n",
    "            UNNEST(STRING_SPLIT(input, '\\n')) i,\n",
    "            CAST(REGEXP_EXTRACT(STRING_SPLIT(i, ':')[1], '([0-9]+)') AS INT) card,\n",
    "            CAST(REGEXP_EXTRACT_ALL(STRING_SPLIT(STRING_SPLIT(i, ':')[2], '|')[1], '([0-9]+)') AS INT[]) win,\n",
    "            CAST(REGEXP_EXTRACT_ALL(STRING_SPLIT(STRING_SPLIT(i, ':')[2], '|')[2], '([0-9]+)') AS INT[]) hand\n",
    "        FROM input\n",
    "    ), matches AS (\n",
    "        SELECT card, LENGTH(ARRAY_INTERSECT(win, hand)) matches\n",
    "        FROM t\n",
    "    ), copies AS (\n",
    "        SELECT card, matches\n",
    "        FROM matches\n",
    "        UNION ALL\n",
    "        SELECT matches.card, matches.matches\n",
    "        FROM copies, matches\n",
    "        WHERE matches.card - copies.card BETWEEN 1 AND copies.matches\n",
    "    )\n",
    "    SELECT COUNT(*) AS ans\n",
    "    FROM copies\n",
    "\"\"\" % input)"
   ]
  }
 ],
 "metadata": {
  "kernelspec": {
   "display_name": "aos",
   "language": "python",
   "name": "python3"
  },
  "language_info": {
   "codemirror_mode": {
    "name": "ipython",
    "version": 3
   },
   "file_extension": ".py",
   "mimetype": "text/x-python",
   "name": "python",
   "nbconvert_exporter": "python",
   "pygments_lexer": "ipython3",
   "version": "3.12.3"
  }
 },
 "nbformat": 4,
 "nbformat_minor": 2
}
