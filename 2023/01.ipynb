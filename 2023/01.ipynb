{
 "cells": [
  {
   "cell_type": "code",
   "execution_count": 1,
   "metadata": {},
   "outputs": [],
   "source": [
    "import duckdb\n",
    "\n",
    "# puzzle input goes here\n",
    "input = \"\"\"\n",
    "\"\"\""
   ]
  },
  {
   "cell_type": "code",
   "execution_count": 2,
   "metadata": {},
   "outputs": [
    {
     "data": {
      "text/plain": [
       "┌────────┐\n",
       "│  ans   │\n",
       "│ int128 │\n",
       "├────────┤\n",
       "│  55477 │\n",
       "└────────┘"
      ]
     },
     "execution_count": 2,
     "metadata": {},
     "output_type": "execute_result"
    }
   ],
   "source": [
    "duckdb.sql(\"\"\"\n",
    "    WITH input AS (\n",
    "        SELECT '%s' AS input\n",
    "    ), t AS (\n",
    "        SELECT REGEXP_EXTRACT(i, '([0-9])', 1) || REGEXP_EXTRACT(REVERSE(i), '([0-9])', 1) i\n",
    "        FROM (\n",
    "            SELECT UNNEST(STRING_SPLIT(input, '\\n')) i\n",
    "            FROM input\n",
    "        )\n",
    "    )\n",
    "    SELECT SUM(CAST(i AS INT)) ans\n",
    "    FROM t\n",
    "\"\"\" % input)"
   ]
  },
  {
   "cell_type": "code",
   "execution_count": 3,
   "metadata": {},
   "outputs": [
    {
     "data": {
      "text/plain": [
       "┌────────┐\n",
       "│  ans   │\n",
       "│ int128 │\n",
       "├────────┤\n",
       "│  54431 │\n",
       "└────────┘"
      ]
     },
     "execution_count": 3,
     "metadata": {},
     "output_type": "execute_result"
    }
   ],
   "source": [
    "duckdb.sql(\"\"\"\n",
    "    WITH input AS (\n",
    "        SELECT '%s' AS input\n",
    "    ), digits AS (\n",
    "        SELECT --zero not in valid range\n",
    "            UNNEST(ARRAY['one', 'two', 'three', 'four', 'five', 'six', 'seven', 'eight', 'nine']) txt,\n",
    "            UNNEST(ARRAY['1', '2', '3', '4', '5', '6', '7', '8', '9']) nbr\n",
    "    ), t AS (\n",
    "        SELECT\n",
    "            REGEXP_EXTRACT(i, (\n",
    "                SELECT '([0-9]|' || STRING_AGG(txt, '|') || ')'\n",
    "                FROM digits\n",
    "            ), 1) o1,\n",
    "            REVERSE(REGEXP_EXTRACT(REVERSE(i), (\n",
    "                SELECT '([0-9]|' || STRING_AGG(REVERSE(txt), '|') || ')'\n",
    "                FROM digits\n",
    "            ), 1)) o2\n",
    "        FROM (\n",
    "            SELECT LOWER(UNNEST(STRING_SPLIT(input, '\\n'))) i\n",
    "            FROM input\n",
    "        )\n",
    "    ), t_numbers AS (\n",
    "        SELECT\n",
    "            (\n",
    "                SELECT nbr FROM digits WHERE txt = t.o1 OR nbr = t.o1\n",
    "            ) || (\n",
    "                SELECT nbr FROM digits WHERE txt = t.o2 OR nbr = t.o2\n",
    "            ) o\n",
    "        FROM t\n",
    "    )\n",
    "    SELECT SUM(CAST(o AS INT)) ans\n",
    "    FROM t_numbers\n",
    "\"\"\" % input)"
   ]
  }
 ],
 "metadata": {
  "kernelspec": {
   "display_name": "aos",
   "language": "python",
   "name": "python3"
  },
  "language_info": {
   "codemirror_mode": {
    "name": "ipython",
    "version": 3
   },
   "file_extension": ".py",
   "mimetype": "text/x-python",
   "name": "python",
   "nbconvert_exporter": "python",
   "pygments_lexer": "ipython3",
   "version": "3.1.-1"
  }
 },
 "nbformat": 4,
 "nbformat_minor": 2
}
