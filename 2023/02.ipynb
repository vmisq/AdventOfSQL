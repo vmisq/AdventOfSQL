{
 "cells": [
  {
   "cell_type": "code",
   "execution_count": 1,
   "metadata": {},
   "outputs": [],
   "source": [
    "import duckdb\n",
    "\n",
    "# puzzle input goes here\n",
    "input = \"\"\"\n",
    "\"\"\""
   ]
  },
  {
   "cell_type": "code",
   "execution_count": 2,
   "metadata": {},
   "outputs": [
    {
     "data": {
      "text/plain": [
       "┌────────┐\n",
       "│  ans   │\n",
       "│ int128 │\n",
       "├────────┤\n",
       "│   2776 │\n",
       "└────────┘"
      ]
     },
     "execution_count": 2,
     "metadata": {},
     "output_type": "execute_result"
    }
   ],
   "source": [
    "duckdb.sql(\"\"\"\n",
    "    WITH input AS (\n",
    "        SELECT '%s' AS input\n",
    "    ), t AS (\n",
    "        SELECT\n",
    "            CAST(REGEXP_EXTRACT(i, 'Game ([0-9]+):', 1) AS INT) game_id,\n",
    "            GENERATE_SUBSCRIPTS(STRING_SPLIT(i, ';'), 1) set_no,\n",
    "            COALESCE(CAST(NULLIF(REGEXP_EXTRACT(UNNEST(STRING_SPLIT(i, ';')), ' ([0-9]+) red', 1), '') AS INT), 0) red,\n",
    "            COALESCE(CAST(NULLIF(REGEXP_EXTRACT(UNNEST(STRING_SPLIT(i, ';')), ' ([0-9]+) green', 1), '') AS INT), 0) green,\n",
    "            COALESCE(CAST(NULLIF(REGEXP_EXTRACT(UNNEST(STRING_SPLIT(i, ';')), ' ([0-9]+) blue', 1), '') AS INT), 0) blue\n",
    "        FROM (\n",
    "            SELECT UNNEST(STRING_SPLIT(input, '\\n')) i\n",
    "            FROM input\n",
    "        )\n",
    "    ), bag AS (\n",
    "        SELECT 12 red, 13 green, 14 blue\n",
    "    ), possible_games AS (\n",
    "        SELECT\n",
    "            game_id,\n",
    "            SUM(CAST(t.red > bag.red AS INT)) red,\n",
    "            SUM(CAST(t.green > bag.green AS INT)) green,\n",
    "            SUM(CAST(t.blue > bag.blue AS INT)) blue\n",
    "        FROM t, bag\n",
    "        GROUP BY game_id\n",
    "        HAVING SUM(CAST(t.red > bag.red AS INT)) = 0\n",
    "        AND SUM(CAST(t.green > bag.green AS INT)) = 0\n",
    "        AND SUM(CAST(t.blue > bag.blue AS INT)) = 0\n",
    "    )\n",
    "    SELECT SUM(game_id) ans\n",
    "    FROM possible_games\n",
    "\"\"\" % input)"
   ]
  },
  {
   "cell_type": "code",
   "execution_count": 3,
   "metadata": {},
   "outputs": [
    {
     "data": {
      "text/plain": [
       "┌────────┐\n",
       "│  ans   │\n",
       "│ int128 │\n",
       "├────────┤\n",
       "│  68638 │\n",
       "└────────┘"
      ]
     },
     "execution_count": 3,
     "metadata": {},
     "output_type": "execute_result"
    }
   ],
   "source": [
    "duckdb.sql(\"\"\"\n",
    "    WITH input AS (\n",
    "        SELECT '%s' AS input\n",
    "    ), t AS (\n",
    "        SELECT\n",
    "            CAST(REGEXP_EXTRACT(i, 'Game ([0-9]+):', 1) AS INT) game_id,\n",
    "            GENERATE_SUBSCRIPTS(STRING_SPLIT(i, ';'), 1) set_no,\n",
    "            COALESCE(CAST(NULLIF(REGEXP_EXTRACT(UNNEST(STRING_SPLIT(i, ';')), ' ([0-9]+) red', 1), '') AS INT), 0) red,\n",
    "            COALESCE(CAST(NULLIF(REGEXP_EXTRACT(UNNEST(STRING_SPLIT(i, ';')), ' ([0-9]+) green', 1), '') AS INT), 0) green,\n",
    "            COALESCE(CAST(NULLIF(REGEXP_EXTRACT(UNNEST(STRING_SPLIT(i, ';')), ' ([0-9]+) blue', 1), '') AS INT), 0) blue\n",
    "        FROM (\n",
    "            SELECT UNNEST(STRING_SPLIT(input, '\\n')) i\n",
    "            FROM input\n",
    "        )\n",
    "    ), bag AS (\n",
    "        SELECT\n",
    "            game_id,\n",
    "            ARRAY_AGG(ROW(red, green, blue)),\n",
    "            MAX(red) red,\n",
    "            MAX(green) green,\n",
    "            MAX(blue) blue\n",
    "        FROM t\n",
    "        GROUP BY game_id\n",
    "    )\n",
    "    SELECT SUM(red * green * blue) ans\n",
    "    FROM bag\n",
    "\"\"\" % input)"
   ]
  }
 ],
 "metadata": {
  "kernelspec": {
   "display_name": "aos",
   "language": "python",
   "name": "python3"
  },
  "language_info": {
   "codemirror_mode": {
    "name": "ipython",
    "version": 3
   },
   "file_extension": ".py",
   "mimetype": "text/x-python",
   "name": "python",
   "nbconvert_exporter": "python",
   "pygments_lexer": "ipython3",
   "version": "3.12.3"
  }
 },
 "nbformat": 4,
 "nbformat_minor": 2
}
