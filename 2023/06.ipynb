{
 "cells": [
  {
   "cell_type": "code",
   "execution_count": 1,
   "metadata": {},
   "outputs": [],
   "source": [
    "import duckdb\n",
    "\n",
    "# puzzle input goes here\n",
    "input = \"\"\"\n",
    "\"\"\""
   ]
  },
  {
   "cell_type": "code",
   "execution_count": 2,
   "metadata": {},
   "outputs": [
    {
     "data": {
      "text/plain": [
       "┌─────────┐\n",
       "│   ans   │\n",
       "│  int32  │\n",
       "├─────────┤\n",
       "│ 1159152 │\n",
       "└─────────┘"
      ]
     },
     "execution_count": 2,
     "metadata": {},
     "output_type": "execute_result"
    }
   ],
   "source": [
    "duckdb.sql(\"\"\"\n",
    "    WITH input AS (\n",
    "        SELECT '%s' AS input\n",
    "    ), t AS (\n",
    "        SELECT\n",
    "            UNNEST(CAST(REGEXP_EXTRACT_ALL(STRING_SPLIT(input, '\\n')[1], '([0-9]+)', 1) AS INT[])) i_time,\n",
    "            UNNEST(CAST(REGEXP_EXTRACT_ALL(STRING_SPLIT(input, '\\n')[2], '([0-9]+)', 1) AS INT[])) i_dist\n",
    "        FROM input\n",
    "    ), run AS (\n",
    "        SELECT\n",
    "            i_time,\n",
    "            i_dist,\n",
    "            (\n",
    "                SELECT COUNT(*)\n",
    "                FROM UNNEST(t_hold) t_hold(v)\n",
    "                WHERE (i_time - v) * v > i_dist\n",
    "            ) n\n",
    "        FROM (\n",
    "            SELECT i_time, i_dist, GENERATE_SERIES(1, i_time) t_hold\n",
    "            FROM t\n",
    "        )\n",
    "    )\n",
    "    SELECT CAST(PRODUCT(n) AS INT) ans\n",
    "    FROM run\n",
    "\"\"\" % input)"
   ]
  },
  {
   "cell_type": "code",
   "execution_count": 3,
   "metadata": {},
   "outputs": [
    {
     "data": {
      "text/plain": [
       "┌──────────┐\n",
       "│   ans    │\n",
       "│  int32   │\n",
       "├──────────┤\n",
       "│ 41513103 │\n",
       "└──────────┘"
      ]
     },
     "execution_count": 3,
     "metadata": {},
     "output_type": "execute_result"
    }
   ],
   "source": [
    "duckdb.sql(\"\"\"\n",
    "    WITH input AS (\n",
    "        SELECT '%s' AS input\n",
    "    ), t AS (\n",
    "        SELECT\n",
    "            UNNEST(CAST(REGEXP_EXTRACT_ALL(REPLACE(STRING_SPLIT(input, '\\n')[1], ' ', ''), '([0-9]+)', 1) AS HUGEINT[])) i_time,\n",
    "            UNNEST(CAST(REGEXP_EXTRACT_ALL(REPLACE(STRING_SPLIT(input, '\\n')[2], ' ', ''), '([0-9]+)', 1) AS HUGEINT[])) i_dist\n",
    "        FROM input\n",
    "    ), min_max AS (\n",
    "        SELECT\n",
    "            -- (i_time - v) * v > i_dist\n",
    "            -- v*v - v*i_time + i_dist > 0\n",
    "            -- roots:\n",
    "            -- x = (-b +- (b*b - 4*a*c)^(0.5)) / (2 * a)\n",
    "            -- x = v, a = 1, b = -1*i_time, c = i_dist\n",
    "            -- v = ( i_time +- ( (-1*i_time)*(-1*i_time) - 4*1*i_dist)^(0.5) ) / 2\n",
    "            CAST(CEIL(( i_time - ( (-1*i_time)*(-1*i_time) - 4*1*i_dist)^(0.5) ) / 2) AS INT) v_min,\n",
    "            CAST(FLOOR(( i_time + ( (-1*i_time)*(-1*i_time) - 4*1*i_dist)^(0.5) ) / 2) AS INT) v_max,\n",
    "        FROM t\n",
    "    )\n",
    "    SELECT v_max - v_min + 1 ans\n",
    "    FROM min_max\n",
    "\"\"\" % input)"
   ]
  }
 ],
 "metadata": {
  "kernelspec": {
   "display_name": "aos",
   "language": "python",
   "name": "python3"
  },
  "language_info": {
   "codemirror_mode": {
    "name": "ipython",
    "version": 3
   },
   "file_extension": ".py",
   "mimetype": "text/x-python",
   "name": "python",
   "nbconvert_exporter": "python",
   "pygments_lexer": "ipython3",
   "version": "3.1.-1"
  }
 },
 "nbformat": 4,
 "nbformat_minor": 2
}
