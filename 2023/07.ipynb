{
 "cells": [
  {
   "cell_type": "code",
   "execution_count": 1,
   "metadata": {},
   "outputs": [],
   "source": [
    "import duckdb\n",
    "\n",
    "# puzzle input goes here\n",
    "input = \"\"\"\n",
    "\"\"\""
   ]
  },
  {
   "cell_type": "code",
   "execution_count": 2,
   "metadata": {},
   "outputs": [
    {
     "data": {
      "text/plain": [
       "┌───────────┐\n",
       "│    ans    │\n",
       "│  int128   │\n",
       "├───────────┤\n",
       "│ 251106089 │\n",
       "└───────────┘"
      ]
     },
     "execution_count": 2,
     "metadata": {},
     "output_type": "execute_result"
    }
   ],
   "source": [
    "duckdb.sql(\"\"\"\n",
    "    WITH input AS (\n",
    "        SELECT '%s' AS input\n",
    "    ), hands AS (\n",
    "        SELECT\n",
    "            GENERATE_SUBSCRIPTS(STRING_SPLIT(input, '\\n'), 1) hand_no,\n",
    "            UNNEST(STRING_SPLIT(input, '\\n')) i,\n",
    "            CAST(STRING_SPLIT(i, ' ')[2] AS INT) bid,\n",
    "            STRING_SPLIT(STRING_SPLIT(i, ' ')[1], '') hand\n",
    "        FROM input\n",
    "    ), card_values AS (\n",
    "        SELECT\n",
    "            UNNEST(ARRAY['A', 'K', 'Q', 'J', 'T', '9', '8', '7', '6', '5', '4', '3', '2']) card,\n",
    "            UNNEST(ARRAY['14', '13', '12', '11', '10', '09', '08', '07', '06', '05', '04', '03', '02']) v\n",
    "    ), cards AS (\n",
    "        SELECT\n",
    "            hand_no,\n",
    "            GENERATE_SUBSCRIPTS(hand, 1) card_no,\n",
    "            UNNEST(hand) card\n",
    "        FROM hands\n",
    "    ), occurrences AS (\n",
    "        SELECT hand_no, ARRAY_SORT(ARRAY_AGG(n)) n\n",
    "        FROM (\n",
    "            SELECT hand_no, card, COUNT(*) n\n",
    "            FROM cards\n",
    "            GROUP BY hand_no, card\n",
    "        )\n",
    "        GROUP BY hand_no\n",
    "    ), untie AS (\n",
    "        SELECT hand_no, STRING_AGG(v, '' ORDER BY card_no) untie\n",
    "        FROM cards, card_values\n",
    "        WHERE cards.card = card_values.card\n",
    "        GROUP BY hand_no\n",
    "    ), strength AS (\n",
    "        SELECT\n",
    "            hand_no,\n",
    "            n[-1] * 10 + COALESCE(n[-2], 0) strength\n",
    "        FROM occurrences\n",
    "    ), hand_rank AS (\n",
    "        SELECT h.hand_no, h.bid, h.hand, RANK() OVER w hand_rank\n",
    "        FROM hands h, strength s, untie u\n",
    "        WHERE h.hand_no = s.hand_no\n",
    "        AND s.hand_no = u.hand_no\n",
    "        WINDOW w AS (ORDER BY s.strength, u.untie)\n",
    "    )\n",
    "    SELECT SUM(bid * hand_rank) ans\n",
    "    FROM hand_rank\n",
    "\"\"\" % input)"
   ]
  },
  {
   "cell_type": "code",
   "execution_count": 3,
   "metadata": {},
   "outputs": [
    {
     "data": {
      "text/plain": [
       "┌───────────┐\n",
       "│    ans    │\n",
       "│  int128   │\n",
       "├───────────┤\n",
       "│ 249620106 │\n",
       "└───────────┘"
      ]
     },
     "execution_count": 3,
     "metadata": {},
     "output_type": "execute_result"
    }
   ],
   "source": [
    "duckdb.sql(\"\"\"\n",
    "    WITH input AS (\n",
    "        SELECT '%s' AS input\n",
    "    ), hands AS (\n",
    "        SELECT\n",
    "            GENERATE_SUBSCRIPTS(STRING_SPLIT(input, '\\n'), 1) hand_no,\n",
    "            UNNEST(STRING_SPLIT(input, '\\n')) i,\n",
    "            CAST(STRING_SPLIT(i, ' ')[2] AS INT) bid,\n",
    "            STRING_SPLIT(STRING_SPLIT(i, ' ')[1], '') hand\n",
    "        FROM input\n",
    "    ), card_values AS (\n",
    "        SELECT\n",
    "            UNNEST(ARRAY['A', 'K', 'Q', 'T', '9', '8', '7', '6', '5', '4', '3', '2', 'J']) card,\n",
    "            UNNEST(ARRAY['14', '13', '12', '10', '09', '08', '07', '06', '05', '04', '03', '02', '00']) v\n",
    "    ), cards AS (\n",
    "        SELECT\n",
    "            hand_no,\n",
    "            GENERATE_SUBSCRIPTS(hand, 1) card_no,\n",
    "            UNNEST(hand) card\n",
    "        FROM hands\n",
    "    ), occurrences AS (\n",
    "        SELECT hand_no, ARRAY_SORT(ARRAY_AGG(n) FILTER(card <> 'J')) n, ANY_VALUE(n) FILTER(card = 'J') n_J\n",
    "        FROM (\n",
    "            SELECT hand_no, card, COUNT(*) n\n",
    "            FROM cards\n",
    "            GROUP BY hand_no, card\n",
    "        )\n",
    "        GROUP BY hand_no\n",
    "    ), untie AS (\n",
    "        SELECT hand_no, STRING_AGG(v, '' ORDER BY card_no) untie\n",
    "        FROM cards, card_values\n",
    "        WHERE cards.card = card_values.card\n",
    "        GROUP BY hand_no\n",
    "    ), strength AS (\n",
    "        SELECT\n",
    "            hand_no,\n",
    "            (COALESCE(n[-1], 0) + COALESCE(n_J, 0)) * 10 + COALESCE(n[-2], 0) strength\n",
    "        FROM occurrences\n",
    "    ), hand_rank AS (\n",
    "        SELECT h.hand_no, h.bid, h.hand, RANK() OVER w hand_rank, s.strength, u.untie\n",
    "        FROM hands h, strength s, untie u\n",
    "        WHERE h.hand_no = s.hand_no\n",
    "        AND s.hand_no = u.hand_no\n",
    "        WINDOW w AS (ORDER BY s.strength, u.untie)\n",
    "    )\n",
    "    SELECT SUM(bid * hand_rank) ans\n",
    "    FROM hand_rank\n",
    "\"\"\" % input)"
   ]
  }
 ],
 "metadata": {
  "kernelspec": {
   "display_name": "aos",
   "language": "python",
   "name": "python3"
  },
  "language_info": {
   "codemirror_mode": {
    "name": "ipython",
    "version": 3
   },
   "file_extension": ".py",
   "mimetype": "text/x-python",
   "name": "python",
   "nbconvert_exporter": "python",
   "pygments_lexer": "ipython3",
   "version": "3.12.3"
  }
 },
 "nbformat": 4,
 "nbformat_minor": 2
}
