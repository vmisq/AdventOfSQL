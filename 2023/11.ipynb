{
 "cells": [
  {
   "cell_type": "code",
   "execution_count": 1,
   "metadata": {},
   "outputs": [],
   "source": [
    "import duckdb\n",
    "\n",
    "# puzzle input goes here\n",
    "input = \"\"\"\n",
    "\"\"\""
   ]
  },
  {
   "cell_type": "code",
   "execution_count": 2,
   "metadata": {},
   "outputs": [
    {
     "data": {
      "text/plain": [
       "┌─────────┐\n",
       "│   ans   │\n",
       "│ int128  │\n",
       "├─────────┤\n",
       "│ 9591768 │\n",
       "└─────────┘"
      ]
     },
     "execution_count": 2,
     "metadata": {},
     "output_type": "execute_result"
    }
   ],
   "source": [
    "duckdb.sql(\"\"\"\n",
    "    WITH input AS (\n",
    "        SELECT '%s' AS input\n",
    "    ), t AS (\n",
    "        SELECT row_no, GENERATE_SUBSCRIPTS(STRING_SPLIT(i, ''), 1) col_no, UNNEST(STRING_SPLIT(i, '')) i\n",
    "        FROM (\n",
    "            SELECT\n",
    "                GENERATE_SUBSCRIPTS(STRING_SPLIT(input, '\\n'), 1) row_no,\n",
    "                UNNEST(STRING_SPLIT(input, '\\n')) i\n",
    "            FROM input\n",
    "        )\n",
    "    ), empty_rows AS (\n",
    "        SELECT row_no\n",
    "        FROM t\n",
    "        GROUP BY row_no\n",
    "        HAVING COUNT(*) FILTER(WHERE i <> '.') = 0\n",
    "    ), empty_cols AS (\n",
    "        SELECT col_no\n",
    "        FROM t\n",
    "        GROUP BY col_no\n",
    "        HAVING COUNT(*) FILTER(WHERE i <> '.') = 0\n",
    "    ), expanded_t AS (\n",
    "        SELECT ROW_NUMBER() OVER() obj_no, row_no, col_no\n",
    "        FROM (\n",
    "            SELECT\n",
    "                i,\n",
    "                t.row_no + COUNT(er.row_no) OVER(PARTITION BY t.col_no ORDER BY t.row_no) row_no,\n",
    "                t.col_no + COUNT(ec.col_no) OVER(PARTITION BY t.row_no ORDER BY t.col_no) col_no\n",
    "            FROM t\n",
    "            LEFT JOIN empty_rows er\n",
    "                ON t.row_no = er.row_no\n",
    "            LEFT JOIN empty_cols ec\n",
    "                ON t.col_no = ec.col_no\n",
    "        )\n",
    "        WHERE i = '#'\n",
    "    ), pair_dist AS (\n",
    "        SELECT\n",
    "            t1.obj_no obj_1,\n",
    "            t2.obj_no obj_2,\n",
    "            ABS(t1.row_no - t2.row_no) + ABS(t1.col_no - t2.col_no) dist,\n",
    "            t1.row_no, t1.col_no, t2.row_no, t2.col_no\n",
    "        FROM expanded_t t1, expanded_t t2\n",
    "        WHERE t1 < t2\n",
    "    )\n",
    "    SELECT SUM(dist) ans\n",
    "    FROM pair_dist\n",
    "\"\"\" % input)"
   ]
  },
  {
   "cell_type": "code",
   "execution_count": 3,
   "metadata": {},
   "outputs": [
    {
     "data": {
      "text/plain": [
       "┌──────────────┐\n",
       "│     ans      │\n",
       "│    int128    │\n",
       "├──────────────┤\n",
       "│ 746962097860 │\n",
       "└──────────────┘"
      ]
     },
     "execution_count": 3,
     "metadata": {},
     "output_type": "execute_result"
    }
   ],
   "source": [
    "duckdb.sql(\"\"\"\n",
    "    WITH input AS (\n",
    "        SELECT '%s' AS input\n",
    "    ), t AS (\n",
    "        SELECT row_no, GENERATE_SUBSCRIPTS(STRING_SPLIT(i, ''), 1) col_no, UNNEST(STRING_SPLIT(i, '')) i\n",
    "        FROM (\n",
    "            SELECT\n",
    "                GENERATE_SUBSCRIPTS(STRING_SPLIT(input, '\\n'), 1) row_no,\n",
    "                UNNEST(STRING_SPLIT(input, '\\n')) i\n",
    "            FROM input\n",
    "        )\n",
    "    ), empty_rows AS (\n",
    "        SELECT row_no\n",
    "        FROM t\n",
    "        GROUP BY row_no\n",
    "        HAVING COUNT(*) FILTER(WHERE i <> '.') = 0\n",
    "    ), empty_cols AS (\n",
    "        SELECT col_no\n",
    "        FROM t\n",
    "        GROUP BY col_no\n",
    "        HAVING COUNT(*) FILTER(WHERE i <> '.') = 0\n",
    "    ), expanded_t AS (\n",
    "        SELECT ROW_NUMBER() OVER() obj_no, row_no, col_no\n",
    "        FROM (\n",
    "            SELECT\n",
    "                i,\n",
    "                t.row_no + (1000000 - 1) * COUNT(er.row_no) OVER(PARTITION BY t.col_no ORDER BY t.row_no) row_no,\n",
    "                t.col_no + (1000000 - 1) * COUNT(ec.col_no) OVER(PARTITION BY t.row_no ORDER BY t.col_no) col_no\n",
    "            FROM t\n",
    "            LEFT JOIN empty_rows er\n",
    "                ON t.row_no = er.row_no\n",
    "            LEFT JOIN empty_cols ec\n",
    "                ON t.col_no = ec.col_no\n",
    "        )\n",
    "        WHERE i = '#'\n",
    "    ), pair_dist AS (\n",
    "        SELECT\n",
    "            t1.obj_no obj_1,\n",
    "            t2.obj_no obj_2,\n",
    "            ABS(t1.row_no - t2.row_no) + ABS(t1.col_no - t2.col_no) dist,\n",
    "            t1.row_no, t1.col_no, t2.row_no, t2.col_no\n",
    "        FROM expanded_t t1, expanded_t t2\n",
    "        WHERE t1 < t2\n",
    "    )\n",
    "    SELECT SUM(dist) ans\n",
    "    FROM pair_dist\n",
    "\"\"\" % input)"
   ]
  }
 ],
 "metadata": {
  "kernelspec": {
   "display_name": "aos",
   "language": "python",
   "name": "python3"
  },
  "language_info": {
   "codemirror_mode": {
    "name": "ipython",
    "version": 3
   },
   "file_extension": ".py",
   "mimetype": "text/x-python",
   "name": "python",
   "nbconvert_exporter": "python",
   "pygments_lexer": "ipython3",
   "version": "3.12.3"
  }
 },
 "nbformat": 4,
 "nbformat_minor": 2
}
